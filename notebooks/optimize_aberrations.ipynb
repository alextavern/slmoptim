{
 "cells": [
  {
   "cell_type": "code",
   "execution_count": 1,
   "metadata": {},
   "outputs": [],
   "source": [
    "import sys\n",
    "import numpy as np\n",
    "import matplotlib.pyplot as plt\n",
    "sys.path.append(str('/home/alexandre/Documents/Projects'))\n",
    "\n",
    "from slmOptim.patternSLM import patterns as pt\n",
    "from slmOptim.optimization.init_experiment import InitExperiment\n",
    "from slmOptim.optimization.iteration_algorithms import IterationAlgos\n",
    "\n",
    "from slmOptim.optimization import cost_functions\n",
    "\n",
    "from aotools.functions import phaseFromZernikes\n"
   ]
  },
  {
   "cell_type": "code",
   "execution_count": 2,
   "metadata": {},
   "outputs": [],
   "source": [
    "# Define observation window on camera\n",
    "roi_size = 100\n",
    "off = (-25, 10 )\n",
    "\n",
    "# Define camera macropixel, this is defined by the measured speckel grain\n",
    "bins = 1\n",
    "\n",
    "# Define camera acquisition parameters\n",
    "exposure_time = 10\n",
    "gain = 1\n",
    "timeout= 100"
   ]
  },
  {
   "cell_type": "code",
   "execution_count": 3,
   "metadata": {},
   "outputs": [
    {
     "name": "stdout",
     "output_type": "stream",
     "text": [
      "\n",
      "Connected to 10.42.0.234 on 9999\n",
      "(104, 100)\n"
     ]
    },
    {
     "data": {
      "image/png": "[encoded data removed]",
      "text/plain": [
       "<Figure size 640x480 with 2 Axes>"
      ]
     },
     "metadata": {},
     "output_type": "display_data"
    }
   ],
   "source": [
    "init = InitExperiment(roi_size, off, bins, exposure_time, gain, timeout)\n",
    "camera = init.init_cam()\n",
    "slm = init.init_slm()\n",
    "\n",
    "frame = camera.get_pending_frame_or_null()\n",
    "frame = np.copy(frame.image_buffer)\n",
    "plt.imshow(frame)\n",
    "plt.colorbar()\n",
    "init.close_cam()\n",
    "\n",
    "print(frame.shape)"
   ]
  },
  {
   "cell_type": "code",
   "execution_count": 6,
   "metadata": {},
   "outputs": [
    {
     "name": "stderr",
     "output_type": "stream",
     "text": [
      "Unable to get pending frame; tl_camera_get_pending_frame_or_null() returned non-zero error code: 1004; error message: Camera handle is invalid. Error: Invalid operation.\n"
     ]
    },
    {
     "ename": "TLCameraError",
     "evalue": "tl_camera_get_pending_frame_or_null() returned non-zero error code: 1004; error message: Camera handle is invalid. Error: Invalid operation.",
     "output_type": "error",
     "traceback": [
      "\u001b[0;31m---------------------------------------------------------------------------\u001b[0m",
      "\u001b[0;31mTLCameraError\u001b[0m                             Traceback (most recent call last)",
      "\u001b[1;32m/home/optomeca/Projects/slmOptim/notebooks/optimize_aberrations.ipynb Cell 4\u001b[0m line \u001b[0;36m1\n\u001b[0;32m----> <a href='vscode-notebook-cell:/home/optomeca/Projects/slmOptim/notebooks/optimize_aberrations.ipynb#Y130sZmlsZQ%3D%3D?line=0'>1</a>\u001b[0m frame \u001b[39m=\u001b[39m camera\u001b[39m.\u001b[39;49mget_pending_frame_or_null()\n\u001b[1;32m      <a href='vscode-notebook-cell:/home/optomeca/Projects/slmOptim/notebooks/optimize_aberrations.ipynb#Y130sZmlsZQ%3D%3D?line=1'>2</a>\u001b[0m frame \u001b[39m=\u001b[39m np\u001b[39m.\u001b[39mcopy(frame\u001b[39m.\u001b[39mimage_buffer)\n",
      "File \u001b[0;32m~/anaconda3/envs/slmpy/lib/python3.8/site-packages/thorlabs_tsi_sdk/tl_camera.py:607\u001b[0m, in \u001b[0;36mTLCamera.get_pending_frame_or_null\u001b[0;34m(self)\u001b[0m\n\u001b[1;32m    605\u001b[0m \u001b[39mexcept\u001b[39;00m \u001b[39mException\u001b[39;00m \u001b[39mas\u001b[39;00m exception:\n\u001b[1;32m    606\u001b[0m     _logger\u001b[39m.\u001b[39merror(\u001b[39m\"\u001b[39m\u001b[39mUnable to get pending frame; \u001b[39m\u001b[39m\"\u001b[39m \u001b[39m+\u001b[39m \u001b[39mstr\u001b[39m(exception))\n\u001b[0;32m--> 607\u001b[0m     \u001b[39mraise\u001b[39;00m exception\n",
      "File \u001b[0;32m~/anaconda3/envs/slmpy/lib/python3.8/site-packages/thorlabs_tsi_sdk/tl_camera.py:566\u001b[0m, in \u001b[0;36mTLCamera.get_pending_frame_or_null\u001b[0;34m(self)\u001b[0m\n\u001b[1;32m    563\u001b[0m error_code \u001b[39m=\u001b[39m \u001b[39mself\u001b[39m\u001b[39m.\u001b[39m_sdk\u001b[39m.\u001b[39mtl_camera_get_pending_frame_or_null(\u001b[39mself\u001b[39m\u001b[39m.\u001b[39m_camera, image_buffer, frame_count,\n\u001b[1;32m    564\u001b[0m                                                            metadata_pointer, metadata_size_in_bytes)\n\u001b[1;32m    565\u001b[0m \u001b[39mif\u001b[39;00m error_code \u001b[39m!=\u001b[39m \u001b[39m0\u001b[39m:\n\u001b[0;32m--> 566\u001b[0m     \u001b[39mraise\u001b[39;00m TLCameraError(_create_c_failure_message(\u001b[39mself\u001b[39m\u001b[39m.\u001b[39m_sdk, \u001b[39m\"\u001b[39m\u001b[39mtl_camera_get_pending_frame_or_null\u001b[39m\u001b[39m\"\u001b[39m,\n\u001b[1;32m    567\u001b[0m                                                   error_code))\n\u001b[1;32m    568\u001b[0m \u001b[39mif\u001b[39;00m \u001b[39mnot\u001b[39;00m image_buffer:\n\u001b[1;32m    569\u001b[0m     \u001b[39mreturn\u001b[39;00m \u001b[39mNone\u001b[39;00m\n",
      "\u001b[0;31mTLCameraError\u001b[0m: tl_camera_get_pending_frame_or_null() returned non-zero error code: 1004; error message: Camera handle is invalid. Error: Invalid operation."
     ]
    }
   ],
   "source": [
    "frame = camera.get_pending_frame_or_null()\n",
    "frame = np.copy(frame.image_buffer)"
   ]
  },
  {
   "cell_type": "code",
   "execution_count": null,
   "metadata": {},
   "outputs": [],
   "source": [
    "slm = init.init_slm()\n"
   ]
  },
  {
   "cell_type": "code",
   "execution_count": 4,
   "metadata": {},
   "outputs": [],
   "source": [
    "class ZernikesPolynomials(IterationAlgos):\n",
    "    \n",
    "    def __init__(self, \n",
    "                slm, \n",
    "                camera,\n",
    "                slm_resolution=(800, 600),\n",
    "                slm_calibration_pixel=112,\n",
    "                num_of_zernike_coeffs=8,\n",
    "                radius=200, \n",
    "                center = [600 // 2, 800 // 2],\n",
    "                remote=True,\n",
    "                save_path=None):\n",
    "        \n",
    "        self.slm = slm\n",
    "        self.camera = camera\n",
    "        \n",
    "        # SLM\n",
    "        resX, resY = slm_resolution\n",
    "        self.patternSLM = pt.Pattern(resX, resY)\n",
    "        self.calib_px = slm_calibration_pixel\n",
    "        self.shape = slm_resolution\n",
    "        # Zernike\n",
    "        self.num_of_zernike_coeffs = num_of_zernike_coeffs\n",
    "        self.radius = radius\n",
    "        self.center = center\n",
    "        \n",
    "        # is the slm remotely connected to a rasp pi ?\n",
    "        self.remote = remote\n",
    "        \n",
    "        # save raw data path\n",
    "        # self.save_path = save_path\n",
    "        # self.filepath = self._create_filepath()\n",
    "    \n",
    "    \n",
    "    \n",
    "    def _get_disk_mask(self, center = None):\n",
    "        '''\n",
    "        Generate a binary mask with value 1 inside a disk, 0 elsewhere\n",
    "        :param shape: list of integer, shape of the returned array\n",
    "        :radius: integer, radius of the disk\n",
    "        :center: list of integers, position of the center\n",
    "        :return: numpy array, the resulting binary mask\n",
    "        '''\n",
    "        shape = [2 * self.radius] * 2\n",
    "        if not center:\n",
    "            center = (shape[0] // 2, shape[1] // 2)\n",
    "        X, Y = np.meshgrid(np.arange(shape[0]), np.arange(shape[1]))\n",
    "        mask = (Y - center[0]) ** 2 + (X - center[1]) ** 2 < self.radius ** 2\n",
    "        return mask.astype('int8')\n",
    "    \n",
    "    def _complex_mask_from_zernike_coeff(self, vec):\n",
    "        '''\n",
    "        Generate a complex phase mask from a vector containting the coefficient of the first Zernike polynoms.\n",
    "        :param DMD_resolution: list of integers, contains the resolution of the DMD, e.g. [1920,1200]\n",
    "        :param: integer, radius of the illumination disk on the DMD\n",
    "        :center: list of integers, contains the position of the center of the illumination disk\n",
    "        :center: list of float, the coefficient of the first Zernike polynoms\n",
    "        '''\n",
    "        # Generate a complex phase mask from the coefficients\n",
    "        zern_mask = np.exp(1j * phaseFromZernikes(vec, 2 * self.radius))\n",
    "        \n",
    "        # We want the amplitude to be 0 outside the disk, we fist generate a binary disk mask\n",
    "        amp_mask = self._get_disk_mask()\n",
    "        \n",
    "        # put the Zernik mask at the right position and multiply by the disk mask\n",
    "        mask = np.zeros(shape = self.shape, dtype='complex')\n",
    "        mask[self.center[0] - self.radius:self.center[0] + self.radius,\n",
    "            self.center[1] - self.radius:self.center[1] + self.radius] = zern_mask * amp_mask\n",
    "        \n",
    "        return abs(mask).astype('uint8')\n",
    "    \n",
    "    def run(self):\n",
    "        \n",
    "        counter = 0\n",
    "        frames = {}\n",
    "        cost = []\n",
    "        \n",
    "        coeffs = np.zeros(self.num_of_zernike_coeffs)\n",
    "        phi_k = np.arange(-2, 2, 0.5)\n",
    "        \n",
    "        for idx in range(self.num_of_zernike_coeffs):\n",
    "            cost_temp = []\n",
    "            for phi in phi_k:\n",
    "                coeffs[idx] = phi\n",
    "                zmask = self._complex_mask_from_zernike_coeff(coeffs)\n",
    "                self.upload_pattern(zmask, 0.1)\n",
    "                \n",
    "                    # get interferogram from camera\n",
    "                frame = self.get_frame()\n",
    "\n",
    "                # calculate correlation here\n",
    "                cost_k = self.callback(frame)\n",
    "                cost_temp.append(cost_k)\n",
    "                \n",
    "            counter += 1 \n",
    "            frames[counter] = frame\n",
    "\n",
    "            # update pattern with max corr\n",
    "            self.cost.append(np.max(cost_temp))\n",
    "            coeffs[idx] = phi\n",
    "\n",
    "        return zmask, coeffs, cost\n",
    "                "
   ]
  },
  {
   "cell_type": "code",
   "execution_count": 5,
   "metadata": {},
   "outputs": [
    {
     "name": "stderr",
     "output_type": "stream",
     "text": [
      "Unable to get pending frame; tl_camera_get_pending_frame_or_null() returned non-zero error code: 1004; error message: Camera handle is invalid. Error: Invalid operation.\n"
     ]
    },
    {
     "name": "stdout",
     "output_type": "stream",
     "text": [
      "Data transmitted\n"
     ]
    },
    {
     "ename": "TLCameraError",
     "evalue": "tl_camera_get_pending_frame_or_null() returned non-zero error code: 1004; error message: Camera handle is invalid. Error: Invalid operation.",
     "output_type": "error",
     "traceback": [
      "\u001b[0;31m---------------------------------------------------------------------------\u001b[0m",
      "\u001b[0;31mTLCameraError\u001b[0m                             Traceback (most recent call last)",
      "\u001b[1;32m/home/optomeca/Projects/slmOptim/notebooks/optimize_aberrations.ipynb Cell 6\u001b[0m line \u001b[0;36m4\n\u001b[1;32m      <a href='vscode-notebook-cell:/home/optomeca/Projects/slmOptim/notebooks/optimize_aberrations.ipynb#Y101sZmlsZQ%3D%3D?line=1'>2</a>\u001b[0m cost_fun \u001b[39m=\u001b[39m \u001b[39mlambda\u001b[39;00m x: cost_functions\u001b[39m.\u001b[39msnr(x)\n\u001b[1;32m      <a href='vscode-notebook-cell:/home/optomeca/Projects/slmOptim/notebooks/optimize_aberrations.ipynb#Y101sZmlsZQ%3D%3D?line=2'>3</a>\u001b[0m zern\u001b[39m.\u001b[39mregister_callback(cost_fun)\n\u001b[0;32m----> <a href='vscode-notebook-cell:/home/optomeca/Projects/slmOptim/notebooks/optimize_aberrations.ipynb#Y101sZmlsZQ%3D%3D?line=3'>4</a>\u001b[0m mask \u001b[39m=\u001b[39m zern\u001b[39m.\u001b[39;49mrun()\n",
      "\u001b[1;32m/home/optomeca/Projects/slmOptim/notebooks/optimize_aberrations.ipynb Cell 6\u001b[0m line \u001b[0;36m8\n\u001b[1;32m     <a href='vscode-notebook-cell:/home/optomeca/Projects/slmOptim/notebooks/optimize_aberrations.ipynb#Y101sZmlsZQ%3D%3D?line=85'>86</a>\u001b[0m \u001b[39mself\u001b[39m\u001b[39m.\u001b[39mupload_pattern(zmask, \u001b[39m0.1\u001b[39m)\n\u001b[1;32m     <a href='vscode-notebook-cell:/home/optomeca/Projects/slmOptim/notebooks/optimize_aberrations.ipynb#Y101sZmlsZQ%3D%3D?line=87'>88</a>\u001b[0m     \u001b[39m# get interferogram from camera\u001b[39;00m\n\u001b[0;32m---> <a href='vscode-notebook-cell:/home/optomeca/Projects/slmOptim/notebooks/optimize_aberrations.ipynb#Y101sZmlsZQ%3D%3D?line=88'>89</a>\u001b[0m frame \u001b[39m=\u001b[39m \u001b[39mself\u001b[39;49m\u001b[39m.\u001b[39;49mget_frame()\n\u001b[1;32m     <a href='vscode-notebook-cell:/home/optomeca/Projects/slmOptim/notebooks/optimize_aberrations.ipynb#Y101sZmlsZQ%3D%3D?line=90'>91</a>\u001b[0m \u001b[39m# calculate correlation here\u001b[39;00m\n\u001b[1;32m     <a href='vscode-notebook-cell:/home/optomeca/Projects/slmOptim/notebooks/optimize_aberrations.ipynb#Y101sZmlsZQ%3D%3D?line=91'>92</a>\u001b[0m cost_k \u001b[39m=\u001b[39m \u001b[39mself\u001b[39m\u001b[39m.\u001b[39mcallback(frame)\n",
      "File \u001b[0;32m~/Projects/slmOptim/optimization/iteration_algorithms.py:109\u001b[0m, in \u001b[0;36mIterationAlgos.get_frame\u001b[0;34m(self)\u001b[0m\n\u001b[1;32m    106\u001b[0m \u001b[39mdef\u001b[39;00m \u001b[39mget_frame\u001b[39m(\u001b[39mself\u001b[39m):\n\u001b[1;32m    107\u001b[0m \u001b[39m    \u001b[39m\u001b[39m\"\"\" Get frame from zelux thorlabs camera\u001b[39;00m\n\u001b[1;32m    108\u001b[0m \u001b[39m    \"\"\"\u001b[39;00m\n\u001b[0;32m--> 109\u001b[0m     frame \u001b[39m=\u001b[39m \u001b[39mself\u001b[39;49m\u001b[39m.\u001b[39;49mcamera\u001b[39m.\u001b[39;49mget_pending_frame_or_null()\n\u001b[1;32m    110\u001b[0m     image_buffer \u001b[39m=\u001b[39m np\u001b[39m.\u001b[39mcopy(frame\u001b[39m.\u001b[39mimage_buffer)\n\u001b[1;32m    111\u001b[0m     \u001b[39mreturn\u001b[39;00m image_buffer\n",
      "File \u001b[0;32m~/anaconda3/envs/slmpy/lib/python3.8/site-packages/thorlabs_tsi_sdk/tl_camera.py:607\u001b[0m, in \u001b[0;36mTLCamera.get_pending_frame_or_null\u001b[0;34m(self)\u001b[0m\n\u001b[1;32m    605\u001b[0m \u001b[39mexcept\u001b[39;00m \u001b[39mException\u001b[39;00m \u001b[39mas\u001b[39;00m exception:\n\u001b[1;32m    606\u001b[0m     _logger\u001b[39m.\u001b[39merror(\u001b[39m\"\u001b[39m\u001b[39mUnable to get pending frame; \u001b[39m\u001b[39m\"\u001b[39m \u001b[39m+\u001b[39m \u001b[39mstr\u001b[39m(exception))\n\u001b[0;32m--> 607\u001b[0m     \u001b[39mraise\u001b[39;00m exception\n",
      "File \u001b[0;32m~/anaconda3/envs/slmpy/lib/python3.8/site-packages/thorlabs_tsi_sdk/tl_camera.py:566\u001b[0m, in \u001b[0;36mTLCamera.get_pending_frame_or_null\u001b[0;34m(self)\u001b[0m\n\u001b[1;32m    563\u001b[0m error_code \u001b[39m=\u001b[39m \u001b[39mself\u001b[39m\u001b[39m.\u001b[39m_sdk\u001b[39m.\u001b[39mtl_camera_get_pending_frame_or_null(\u001b[39mself\u001b[39m\u001b[39m.\u001b[39m_camera, image_buffer, frame_count,\n\u001b[1;32m    564\u001b[0m                                                            metadata_pointer, metadata_size_in_bytes)\n\u001b[1;32m    565\u001b[0m \u001b[39mif\u001b[39;00m error_code \u001b[39m!=\u001b[39m \u001b[39m0\u001b[39m:\n\u001b[0;32m--> 566\u001b[0m     \u001b[39mraise\u001b[39;00m TLCameraError(_create_c_failure_message(\u001b[39mself\u001b[39m\u001b[39m.\u001b[39m_sdk, \u001b[39m\"\u001b[39m\u001b[39mtl_camera_get_pending_frame_or_null\u001b[39m\u001b[39m\"\u001b[39m,\n\u001b[1;32m    567\u001b[0m                                                   error_code))\n\u001b[1;32m    568\u001b[0m \u001b[39mif\u001b[39;00m \u001b[39mnot\u001b[39;00m image_buffer:\n\u001b[1;32m    569\u001b[0m     \u001b[39mreturn\u001b[39;00m \u001b[39mNone\u001b[39;00m\n",
      "\u001b[0;31mTLCameraError\u001b[0m: tl_camera_get_pending_frame_or_null() returned non-zero error code: 1004; error message: Camera handle is invalid. Error: Invalid operation."
     ]
    }
   ],
   "source": [
    "zern = ZernikesPolynomials(slm, camera)\n",
    "cost_fun = lambda x: cost_functions.snr(x)\n",
    "zern.register_callback(cost_fun)\n",
    "mask = zern.run()\n",
    "\n"
   ]
  },
  {
   "cell_type": "code",
   "execution_count": null,
   "metadata": {},
   "outputs": [],
   "source": []
  },
  {
   "cell_type": "code",
   "execution_count": null,
   "metadata": {},
   "outputs": [],
   "source": [
    "init.close_cam()"
   ]
  },
  {
   "cell_type": "code",
   "execution_count": null,
   "metadata": {},
   "outputs": [],
   "source": [
    "init.init_cam()"
   ]
  },
  {
   "cell_type": "code",
   "execution_count": null,
   "metadata": {},
   "outputs": [],
   "source": [
    "zern.run()"
   ]
  },
  {
   "cell_type": "code",
   "execution_count": null,
   "metadata": {},
   "outputs": [],
   "source": [
    "phi_k = np.arange(-2, 2.5, 0.25)\n",
    "phi_k"
   ]
  },
  {
   "cell_type": "code",
   "execution_count": null,
   "metadata": {},
   "outputs": [],
   "source": [
    "frames = {}\n",
    "counter = 0"
   ]
  },
  {
   "cell_type": "code",
   "execution_count": null,
   "metadata": {},
   "outputs": [],
   "source": [
    "counter += 1\n",
    "counter "
   ]
  },
  {
   "cell_type": "code",
   "execution_count": null,
   "metadata": {},
   "outputs": [],
   "source": [
    "counter += 1\n",
    "frame = camera.get_pending_frame_or_null()\n",
    "frames[counter] = np.copy(frame.image_buffer)\n",
    "plt.imshow(frames[counter])\n",
    "plt.axis('off')\n",
    "plt.savefig(\"frame\" + str(counter) + \".png\", bbox_inches='tight', pad_inches=0)"
   ]
  },
  {
   "cell_type": "code",
   "execution_count": null,
   "metadata": {},
   "outputs": [],
   "source": []
  },
  {
   "cell_type": "code",
   "execution_count": null,
   "metadata": {},
   "outputs": [],
   "source": [
    "frame = camera.get_pending_frame_or_null()\n",
    "frame = np.copy(frame.image_buffer)\n",
    "plt.imshow(frame)"
   ]
  },
  {
   "cell_type": "code",
   "execution_count": null,
   "metadata": {},
   "outputs": [],
   "source": [
    "for i in range(12):\n",
    "    plt.figure()\n",
    "    plt.imshow(frames[i])"
   ]
  },
  {
   "cell_type": "code",
   "execution_count": null,
   "metadata": {},
   "outputs": [],
   "source": [
    "with open(\"myfile2.txt\", 'w') as f:  \n",
    "    for key, value in frames.items():  \n",
    "        f.write('%s\\n' % (value))"
   ]
  },
  {
   "cell_type": "code",
   "execution_count": null,
   "metadata": {},
   "outputs": [],
   "source": [
    "import pandas as pd\n",
    "df = pd.read_csv(\"myfile2.txt\", header=None)\n",
    "print(df)"
   ]
  },
  {
   "cell_type": "code",
   "execution_count": null,
   "metadata": {},
   "outputs": [],
   "source": [
    "df[0][0]"
   ]
  },
  {
   "cell_type": "code",
   "execution_count": null,
   "metadata": {},
   "outputs": [],
   "source": [
    "df"
   ]
  },
  {
   "cell_type": "code",
   "execution_count": null,
   "metadata": {},
   "outputs": [],
   "source": [
    "img = df[0][0]\n",
    "img.shape"
   ]
  },
  {
   "cell_type": "code",
   "execution_count": null,
   "metadata": {},
   "outputs": [],
   "source": [
    "radius = 200\n",
    "[radius * 2] * 2"
   ]
  },
  {
   "cell_type": "code",
   "execution_count": null,
   "metadata": {},
   "outputs": [],
   "source": []
  }
 ],
 "metadata": {
  "kernelspec": {
   "display_name": "slmpy",
   "language": "python",
   "name": "python3"
  },
  "language_info": {
   "codemirror_mode": {
    "name": "ipython",
    "version": 3
   },
   "file_extension": ".py",
   "mimetype": "text/x-python",
   "name": "python",
   "nbconvert_exporter": "python",
   "pygments_lexer": "ipython3",
   "version": "3.8.16"
  },
  "orig_nbformat": 4
 },
 "nbformat": 4,
 "nbformat_minor": 2
}
