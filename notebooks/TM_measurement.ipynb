{
 "cells": [
  {
   "cell_type": "markdown",
   "id": "b65ad9f3",
   "metadata": {},
   "source": [
    "# Transmission matrix \n",
    "## acquisition, calculation and phase conjugation"
   ]
  },
  {
   "cell_type": "markdown",
   "id": "723ca62c",
   "metadata": {},
   "source": [
    "### Phase shift interferometry (4-step)\n",
    "this method can be used to measure the complext field of an interference pattern and it actually removes the mean amplitude term from the equation.\n",
    "\n",
    "\n",
    "The light intensity measured on the camera is:\n",
    "\n",
    "$$I_{\\rm{camera}} = |e^{ia}E_{\\rm{ref}}+E_{\\rm{(x,y)}}|^2, $$\n",
    "\n",
    "$E_{\\rm{ref}}$ is the non-modulated part of the beam which acts as a local oscillator, \n",
    "\n",
    "$E_{\\rm{(x, y)}}$ is the SML-modulated part of the beam,\n",
    "\n",
    "$a$ is the phase which in this case will take four values: $0, \\pi, \\pi/2, 3\\pi/2$. Therefore four each SLM pattern, four measurements will be carried out. \n",
    "\n",
    "The complex field is found to be:\n",
    "\n",
    "$$E_{\\rm{(x,y)}} =\\frac{1}{E_{\\rm{ref}}} \\Bigg( \\frac{I_0 - I_\\pi}{4} + i \\frac{I_{3\\pi/2} - I_{\\pi/2}}{4}\\Bigg)$$\n",
    "\n",
    "\n",
    "\n",
    " On the pixel $j$ of the camera one gets the following field:\n",
    " \n",
    "$$ \\frac{I_0^j - I_\\pi^j}{4} + i \\frac{I_{3\\pi/2}^j - I_{\\pi/2}^j}{4} = \\overline{s}^j \\sum_i h^{ij} E_{\\rm{in}}^i, $$\n",
    "\n",
    "where\n",
    "\n",
    "i: pixel on the slm\n",
    "\n",
    "j: pixel on the camera\n",
    "\n",
    "And the observed transmission matrix is:\n",
    "\n",
    "$$ h_{ij}^{\\rm{obs}} =  \\frac{I_0^j - I_\\pi^j}{4} + i \\frac{I_{3\\pi/2}^j - I_{\\pi/2}^j}{4}. $$\n",
    "\n",
    "### Effect of referecence beam and normalization\n",
    "The observed transmission matrix has is affected by the reference beam. It has been shown that for a homogenous laser beam at the input of the SLM, this effect is statit at the output pixels; it is the same at a given pixel (see Popoff PhD). Therefore this effect can be reduced on the observed matrix by normalizing the latter by the standard deviation on a camera pixel, calculated for all the input vectors:\n",
    "\n",
    "$$h_{ij}^{\\rm{filtered}} = \\frac{h_{ij}^{\\rm{obs}}}{\\sqrt{\\langle|h_{ij}^{\\rm{obs}}|^2\\rangle}_i}$$, \n",
    "\n",
    "where $\\sqrt{\\langle|h_{ij}^{\\rm{obs}}|^2\\rangle}_i$ is the standard deviation. \n",
    "\n",
    "### Basis change\n",
    "The filtered transmission matrix $h_{ij}^{\\rm{filtered}}$ gives the relationship between and hadamard vector and the camera pixels. What we need in the end is a transmission matrix that gives the relationship between a SLM pixel and the camera pixels. \n",
    "\n",
    "For this, a basis change (from the hadamard basis to the canonical one) is needed to find the real transmission matrix:\n",
    "\n",
    "$$H^{\\rm{can}} = H_{\\rm{ij}}^{\\rm{had}} \\times \\mathcal{H}, $$\n",
    "\n",
    "with $\\mathcal{H}$ the corresponding Hadamard matrix. "
   ]
  },
  {
   "cell_type": "markdown",
   "id": "366253f9",
   "metadata": {},
   "source": [
    "#### import libraries"
   ]
  },
  {
   "cell_type": "code",
   "execution_count": null,
   "id": "e7adc7bc",
   "metadata": {},
   "outputs": [],
   "source": [
    "from slmOptim.optimization import transmission_matrix\n",
    "from slmOptim.optimization import phase_conjugation, cost_functions\n",
    "from slmOptim.optimization.init_experiment import InitExperiment\n",
    "\n",
    "from slmOptim.zeluxPy import helper_functions as cam\n",
    "\n",
    "from slmOptim.patternSLM import patterns as pt\n",
    "from slmOptim.patternSLM.helper_functions import check\n",
    "\n",
    "from slmPy import slmpy\n",
    "\n",
    "from mpl_toolkits.axes_grid1 import make_axes_locatable\n",
    "import matplotlib.pyplot as plt\n",
    "import numpy as np\n",
    "import pickle"
   ]
  },
  {
   "cell_type": "markdown",
   "id": "091f27ae",
   "metadata": {},
   "source": [
    "#### set experiment parameters"
   ]
  },
  {
   "cell_type": "code",
   "execution_count": null,
   "id": "43fac54f",
   "metadata": {},
   "outputs": [],
   "source": [
    "# SLM-hadamard parameters\n",
    "\n",
    "# SLM resolution \n",
    "resX, resY = (800, 600)\n",
    "\n",
    "# the number of controlled segments on the SLM num_in ** 2\n",
    "num_in = 128\n",
    "\n",
    "# size of macropixels on slm 2 ** slm_macropix\n",
    "slm_macropixel = 2\n",
    "\n",
    "# Define observation window on camera\n",
    "roi_size = 800\n",
    "off = (0, 0)\n",
    "\n",
    "# roi = cam.set_roi(roi_size, off)\n",
    "# print(roi)\n",
    "\n",
    "# Define camera macropixel, this is defined by the measured speckel grain\n",
    "bins = 10\n",
    "\n",
    "# Define camera acquisition parameters\n",
    "exposure_time = 100\n",
    "gain = 1\n",
    "timeout= 100\n",
    "\n",
    "# path to save raw data\n",
    "path = '/home/optomeca/Documents/measurements'\n"
   ]
  },
  {
   "cell_type": "code",
   "execution_count": null,
   "id": "b336cfef",
   "metadata": {},
   "outputs": [],
   "source": [
    "init = InitExperiment(roi_size, off, bins, exposure_time, gain, timeout)\n",
    "camera = init.init_cam()\n",
    "slm_rasPi = init.init_slm()\n",
    "\n",
    "frame = camera.get_pending_frame_or_null()\n",
    "frame = np.copy(frame.image_buffer)\n",
    "plt.imshow(frame)\n",
    "plt.colorbar()\n",
    "# init.close_cam()\n",
    "\n",
    "# print(frame.shape)\n"
   ]
  },
  {
   "cell_type": "code",
   "execution_count": null,
   "id": "fe4e97db",
   "metadata": {},
   "outputs": [],
   "source": [
    "# slm_rasPi = init.init_slm()\n",
    "slm_rasPi = init.init_slm()\n"
   ]
  },
  {
   "cell_type": "code",
   "execution_count": null,
   "id": "4df99c42",
   "metadata": {},
   "outputs": [],
   "source": [
    "init.close_cam()"
   ]
  },
  {
   "cell_type": "markdown",
   "id": "8b01db4e",
   "metadata": {},
   "source": [
    "\n",
    "#### just do some quick checks"
   ]
  },
  {
   "cell_type": "code",
   "execution_count": null,
   "id": "6a89e457",
   "metadata": {},
   "outputs": [],
   "source": [
    "pattern, frame = check(slm_rasPi, camera, \n",
    "                       num_in, (1, 1), slm_macropixel)"
   ]
  },
  {
   "cell_type": "code",
   "execution_count": null,
   "id": "196766e2",
   "metadata": {},
   "outputs": [],
   "source": [
    "pattern, frame = check(slm_rasPi, camera, \n",
    "                       num_in, (1, 10), slm_macropixel)"
   ]
  },
  {
   "cell_type": "markdown",
   "id": "1a7b9079",
   "metadata": {},
   "source": [
    "### 1. Perform TM measurement"
   ]
  },
  {
   "cell_type": "code",
   "execution_count": null,
   "id": "dafcfdeb",
   "metadata": {
    "scrolled": false
   },
   "outputs": [],
   "source": [
    "\n",
    "\n",
    "# instantiate tm\n",
    "tm_raw = transmission_matrix.measTM(slm_rasPi,\n",
    "                                    camera,\n",
    "                                    num_in=num_in, \n",
    "                                    slm_macropixel_size=slm_macropixel, \n",
    "                                    save_path=path,\n",
    "                                    remote=True)\n",
    "\n",
    "# run acquisition\n",
    "time_delay = 0.1\n",
    "patterns, frames = tm_raw.get2(time_delay)\n",
    "\n",
    "# save raw data\n",
    "tm_raw.save()"
   ]
  },
  {
   "cell_type": "markdown",
   "id": "78eed74d",
   "metadata": {},
   "source": [
    "### 2. Calculate TM"
   ]
  },
  {
   "cell_type": "code",
   "execution_count": null,
   "id": "abf66a07",
   "metadata": {},
   "outputs": [],
   "source": [
    "# filepath = '/home/optomeca/Documents/measurements/20230915-1354_tm_raw_data_ROI(770, 590, 867, 687)_Bins4_Order4_Mag5.pkl'\n",
    "\n",
    "# with open(filepath, 'rb') as fp:\n",
    "#     data = pickle.load(fp)\n",
    "\n",
    "data = frames\n",
    "# data = data[1]\n",
    "\n",
    "# calculater TM\n",
    "tr = transmission_matrix.calcTM(data)\n",
    "tm_had, norm, tm_fil, tm = tr.calc_plot_tm()"
   ]
  },
  {
   "cell_type": "markdown",
   "id": "e15084cd",
   "metadata": {},
   "source": [
    "### 3. Phase conjugation -  Focusing"
   ]
  },
  {
   "cell_type": "code",
   "execution_count": null,
   "id": "af5e276f",
   "metadata": {},
   "outputs": [],
   "source": [
    "\n",
    "init.close_cam()"
   ]
  },
  {
   "cell_type": "code",
   "execution_count": null,
   "id": "f9d9a206",
   "metadata": {},
   "outputs": [],
   "source": [
    "bins=1\n",
    "roi_size = 800\n",
    "init = InitExperiment(roi_size, off, bins, exposure_time, gain, timeout)\n",
    "camera = init.init_cam()"
   ]
  },
  {
   "cell_type": "code",
   "execution_count": null,
   "id": "9e1a8661",
   "metadata": {},
   "outputs": [],
   "source": [
    "# define target\n",
    "target_shape = (int(tm.shape[0] ** 0.5), int(tm.shape[0] ** 0.5))\n",
    "tgt = phase_conjugation.Target(target_shape)\n",
    "target_frame1 = tgt.square((1, 1), offset_x=0, offset_y=00, intensity=1)\n",
    "\n",
    "target_frame = target_frame1\n",
    "\n",
    "# phase conjugation - create mask\n",
    "msk = phase_conjugation.InverseLight(target_frame, tm, slm_macropixel=slm_macropixel)\n",
    "phase_mask = msk.inverse_prop()\n",
    "\n",
    "# merge phase mask into an slm pattern\n",
    "slm_patterns = pt.Pattern(resX, resY)\n",
    "patternSLM = pt.Pattern(resX, resY)\n",
    "focusing_mask = patternSLM.add_subpattern(phase_mask, gray = 100)\n",
    "\n",
    "# apply mask\n",
    "slm_rasPi.sendArray(focusing_mask)"
   ]
  },
  {
   "cell_type": "code",
   "execution_count": null,
   "id": "03072d72",
   "metadata": {},
   "outputs": [],
   "source": [
    "from matplotlib.colors import LogNorm\n",
    "import time\n",
    "\n",
    "# apply mask\n",
    "slm_rasPi.sendArray(focusing_mask)\n",
    "time.sleep(0.2)\n",
    "\n",
    "# get frame\n",
    "frame = camera.get_pending_frame_or_null()\n",
    "frame_focus = np.copy(frame.image_buffer)\n",
    "\n",
    "# set/get speckle\n",
    "patSLM = pt.Pattern(resX, resY)\n",
    "mirror = patSLM.mirror()\n",
    "slm_rasPi.sendArray(mirror)\n",
    "time.sleep(.2)\n",
    "frame = camera.get_pending_frame_or_null()\n",
    "frame_speck = np.copy(frame.image_buffer)\n",
    "\n",
    "# plot\n",
    "fig, axs = plt.subplots(2, 2, figsize=(10,10))\n",
    "\n",
    "speck = axs[0, 0].imshow(frame_speck)\n",
    "axs[0, 0].set_title(\"Diffusing pattern\")\n",
    "axs[0, 0].set_xlabel(\"Camera x px #\")\n",
    "axs[0, 0].set_ylabel(\"Camera y px #\")\n",
    "divider = make_axes_locatable(axs[0, 0])\n",
    "cax = divider.append_axes(\"right\", size=\"5%\", pad=0.05)\n",
    "fig.colorbar(speck, cax=cax)   \n",
    "\n",
    "mask = axs[1, 0].imshow(phase_mask)\n",
    "axs[1, 0].set_title(\"Focus mask\")\n",
    "axs[1, 0].set_xlabel(\"SLM x px #\")\n",
    "axs[1, 0].set_ylabel(\"SLM y px #\")\n",
    "divider = make_axes_locatable(axs[1, 0])\n",
    "cax = divider.append_axes(\"right\", size=\"5%\", pad=0.05)\n",
    "fig.colorbar(mask, cax=cax)   \n",
    "\n",
    "frame = axs[0, 1].imshow(frame_focus, norm=LogNorm(vmin=1, vmax=1000))\n",
    "# frame = axs[1].imshow(frame_focus)\n",
    "\n",
    "axs[0, 1].set_title(\"Focusing\")\n",
    "axs[0, 1].set_xlabel(\"Camera x px #\")\n",
    "axs[0, 1].set_ylabel(\"Camera y px #\")\n",
    "divider = make_axes_locatable(axs[0, 1])\n",
    "cax = divider.append_axes(\"right\", size=\"5%\", pad=0.05)\n",
    "fig.colorbar(frame, cax=cax)   \n",
    "\n",
    "axs[1, 1].plot(frame_focus[397])\n",
    "axs[1, 1].set_box_aspect(1)\n",
    "axs[1, 1].set_title(\"Focus profile\")\n",
    "axs[1, 1].set_xlabel(\"Camera x px #\")\n",
    "axs[1, 1].set_ylabel(\"Intensity (a.u.) #\")\n",
    "\n",
    "fig.tight_layout()\n",
    "\n",
    "# plt.savefig(\"256cap.png\", dpi=200, transparent=True)\n",
    "\n",
    "# with open(\"256ΤΜfocusSNR300.pkl\", 'wb') as fp:\n",
    "#     pickle.dump((phase_mask, frame_focus), fp)"
   ]
  },
  {
   "cell_type": "code",
   "execution_count": null,
   "id": "9c60c4ff",
   "metadata": {},
   "outputs": [],
   "source": [
    "cost_functions.snr(frame_focus, 1, (-7, 0))"
   ]
  },
  {
   "cell_type": "code",
   "execution_count": null,
   "id": "beba70f6",
   "metadata": {},
   "outputs": [],
   "source": [
    "init.close_cam()\n",
    "# slm_raspPi.close()"
   ]
  },
  {
   "cell_type": "code",
   "execution_count": null,
   "id": "ed19d48d",
   "metadata": {},
   "outputs": [],
   "source": [
    "patSLM = pt.Pattern(resX, resY)\n",
    "mirror = patSLM.mirror()\n",
    "\n",
    "hadamard_basis = patSLM._get_hadamard_basis(16)\n",
    "\n",
    "\n",
    "vector = hadamard_basis[60]\n",
    "vector = patSLM._enlarge_pattern(vector, 5)\n",
    "vector = patSLM.add_subpattern(vector)\n",
    "\n",
    "slm_rasPi.sendArray(mirror)"
   ]
  },
  {
   "cell_type": "code",
   "execution_count": null,
   "id": "0d34374d",
   "metadata": {},
   "outputs": [],
   "source": [
    "# slm_raspPi.sendArray(focusing_mask)\n",
    "slm_raspPi.sendArray(mirror)"
   ]
  },
  {
   "cell_type": "code",
   "execution_count": null,
   "id": "1763818d",
   "metadata": {},
   "outputs": [],
   "source": [
    "slm_raspPi.close()"
   ]
  },
  {
   "cell_type": "code",
   "execution_count": null,
   "id": "74f711f6",
   "metadata": {},
   "outputs": [],
   "source": [
    "slm_raspPi = init.init_slm()"
   ]
  },
  {
   "cell_type": "code",
   "execution_count": null,
   "id": "1edc8817",
   "metadata": {},
   "outputs": [],
   "source": [
    "roi_size = 500\n",
    "# off = (-80, 0)\n",
    "\n",
    "init = InitExperiment(roi_size, off, bins, exposure_time, gain, timeout)\n",
    "camera = init.init_cam()\n",
    "frame = camera.get_pending_frame_or_null()\n",
    "frame = np.copy(frame.image_buffer)\n",
    "plt.imshow(frame)\n",
    "init.close_cam()"
   ]
  },
  {
   "cell_type": "code",
   "execution_count": null,
   "id": "c0a774cb",
   "metadata": {},
   "outputs": [],
   "source": [
    "init.close_cam()"
   ]
  },
  {
   "cell_type": "code",
   "execution_count": null,
   "id": "13b31c10",
   "metadata": {},
   "outputs": [],
   "source": [
    "had = pt.HadamardPatternGenerator(256)\n",
    "pattern = had[65]\n",
    "patternSLM = pt.Pattern(resX, resY)\n",
    "\n",
    "mask = patternSLM._enlarge_pattern(pattern, 5)\n",
    "mask = patternSLM.add_subpattern(mask)\n",
    "\n",
    "slm_rasPi.sendArray(mask)"
   ]
  },
  {
   "cell_type": "code",
   "execution_count": null,
   "id": "0ab73f07",
   "metadata": {},
   "outputs": [],
   "source": [
    "patSLM = pt.Pattern(resX, resY)\n",
    "mirror = patSLM.mirror()\n",
    "slm_rasPi.sendArray(mirror)"
   ]
  },
  {
   "cell_type": "code",
   "execution_count": null,
   "id": "539f039a",
   "metadata": {},
   "outputs": [],
   "source": []
  }
 ],
 "metadata": {
  "kernelspec": {
   "display_name": "Python 3 (ipykernel)",
   "language": "python",
   "name": "python3"
  },
  "language_info": {
   "codemirror_mode": {
    "name": "ipython",
    "version": 3
   },
   "file_extension": ".py",
   "mimetype": "text/x-python",
   "name": "python",
   "nbconvert_exporter": "python",
   "pygments_lexer": "ipython3",
   "version": "3.8.16"
  }
 },
 "nbformat": 4,
 "nbformat_minor": 5
}
