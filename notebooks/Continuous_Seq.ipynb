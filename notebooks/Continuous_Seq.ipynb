{
 "cells": [
  {
   "cell_type": "markdown",
   "metadata": {},
   "source": [
    "### import libraries"
   ]
  },
  {
   "cell_type": "code",
   "execution_count": null,
   "metadata": {},
   "outputs": [],
   "source": [
    "import sys\n",
    "import numpy as np\n",
    "import matplotlib.pyplot as plt\n",
    "sys.path.append(str('/home/alexandre/Documents/Projects'))\n",
    "\n",
    "from slmOptim.patternSLM import patterns as pt\n",
    "from slmOptim.optimization import phase_conjugation\n",
    "from slmOptim.zeluxPy import helper_functions as cam\n",
    "from slmOptim.optimization.init_experiment import InitExperiment\n",
    "from slmOptim.optimization.iteration_algorithms import ContinuousSequential\n",
    "from slmOptim.optimization.iteration_algorithms import StepwiseSequential\n",
    "\n",
    "from slmOptim.optimization import cost_functions"
   ]
  },
  {
   "cell_type": "markdown",
   "metadata": {},
   "source": [
    "### set experiment parameters"
   ]
  },
  {
   "cell_type": "code",
   "execution_count": null,
   "metadata": {},
   "outputs": [],
   "source": [
    "# SLM resolution\n",
    "resX, resY = (800, 600)\n",
    "\n",
    "# the number of controlled segments on the SLM\n",
    "slm_segments = 256\n",
    "\n",
    "# size of macropixels on slm\n",
    "slm_macropixels = 5\n",
    "\n",
    "\n",
    "phase_steps = 8\n",
    "\n",
    "# Define observation window on camera\n",
    "roi_size = 600\n",
    "off = (0, 0)\n",
    "\n",
    "# Define camera macropixel, this is defined by the measured speckel grain\n",
    "bins = 1\n",
    "\n",
    "# Define camera acquisition parameters\n",
    "exposure_time = 100\n",
    "gain = 1\n",
    "timeout= 100\n",
    "\n",
    "# save data\n",
    "path = '/home/optomeca/Documents/measurements'"
   ]
  },
  {
   "cell_type": "markdown",
   "metadata": {},
   "source": [
    "### Initialize SLM and cam check a frame"
   ]
  },
  {
   "cell_type": "code",
   "execution_count": null,
   "metadata": {},
   "outputs": [],
   "source": [
    "init = InitExperiment(roi_size, off, bins, exposure_time, gain, timeout)\n",
    "camera = init.init_cam()\n",
    "# slm = init.init_slm()\n",
    "# \n",
    "frame = camera.get_pending_frame_or_null()\n",
    "frame = np.copy(frame.image_buffer)\n",
    "plt.imshow(frame)\n",
    "plt.colorbar()\n",
    "# init.close_cam()\n",
    "\n",
    "# print(frame.shape)"
   ]
  },
  {
   "cell_type": "code",
   "execution_count": null,
   "metadata": {},
   "outputs": [],
   "source": [
    "slm = init.init_slm()\n"
   ]
  },
  {
   "cell_type": "code",
   "execution_count": null,
   "metadata": {},
   "outputs": [],
   "source": [
    "init.close_cam()"
   ]
  },
  {
   "cell_type": "markdown",
   "metadata": {},
   "source": [
    "### define cost function"
   ]
  },
  {
   "cell_type": "code",
   "execution_count": null,
   "metadata": {},
   "outputs": [],
   "source": [
    "# define target for the correlation cost function only\n",
    "target_shape = (104, 104)\n",
    "tgt = phase_conjugation.Target(target_shape)\n",
    "target = tgt.square((4, 4), offset_x=0, offset_y=0, intensity=100)\n",
    "\n",
    "# choose one cost function to pass to optim object    \n",
    "cost_fun = lambda x: cost_functions.corr_coef(x, target)\n",
    "cost_fun = lambda x: cost_functions.snr(x, mask_radius=4)\n"
   ]
  },
  {
   "cell_type": "markdown",
   "metadata": {},
   "source": [
    "##### Load patterns that will be used for optimization using a custom pattern loader"
   ]
  },
  {
   "cell_type": "code",
   "execution_count": null,
   "metadata": {},
   "outputs": [],
   "source": [
    "# create pattenr loader\n",
    "pattern_loader = pt.OnePixelPatternGenerator(slm_segments)"
   ]
  },
  {
   "cell_type": "markdown",
   "metadata": {},
   "source": [
    "#### run the algorithm"
   ]
  },
  {
   "cell_type": "code",
   "execution_count": null,
   "metadata": {},
   "outputs": [],
   "source": [
    "# cost = {}\n",
    "# slm_segments = 256\n",
    "# for step in range(1, 16):\n",
    "\n",
    "# instantiate optimization class\n",
    "optim = ContinuousSequential(slm, camera, \n",
    "                        pattern_loader, \n",
    "                        total_iterations=1,\n",
    "                        slm_segments=slm_segments,\n",
    "                        slm_macropixel=slm_macropixels,\n",
    "                        phase_steps=phase_steps, \n",
    "                        save_path=path)\n",
    "\n",
    "# pass cost function to object\n",
    "optim.register_callback(cost_fun)\n",
    "\n",
    "# run the algorithm\n",
    "pattern, cost, frames = optim.run()\n",
    "# optim.save_raw()        "
   ]
  },
  {
   "cell_type": "markdown",
   "metadata": {},
   "source": [
    "### Apply optimized mask and get frame"
   ]
  },
  {
   "cell_type": "code",
   "execution_count": null,
   "metadata": {},
   "outputs": [],
   "source": [
    "patternSLM = pt.Pattern(resX, resY)\n",
    "\n",
    "mask = patternSLM._enlarge_pattern(pattern, slm_macropixels)\n",
    "mask = patternSLM.add_subpattern(mask)\n",
    "\n",
    "slm.sendArray(mask)\n",
    "# # slm.updateArray(temp)\n",
    "\n",
    "frame = camera.get_pending_frame_or_null()\n",
    "focus = np.copy(frame.image_buffer)\n",
    "\n",
    "optim.plot(focus, 301)\n",
    "# optim.save_raw()"
   ]
  },
  {
   "cell_type": "code",
   "execution_count": null,
   "metadata": {},
   "outputs": [],
   "source": [
    "plt.imshow(focus[350:450, 350:450], cmap='magma')\n",
    "plt.axis('off')\n",
    "plt.savefig('optim.png', dpi=200, transparent=True, bbox_inches='tight')"
   ]
  },
  {
   "cell_type": "code",
   "execution_count": null,
   "metadata": {},
   "outputs": [],
   "source": [
    "init.close_cam()\n",
    "# init.close_slm()"
   ]
  },
  {
   "cell_type": "code",
   "execution_count": null,
   "metadata": {},
   "outputs": [],
   "source": [
    "pat = pt.Pattern(resX, resY)\n",
    "mirror = pat.mirror()\n",
    "slm.sendArray(mirror)"
   ]
  },
  {
   "cell_type": "code",
   "execution_count": null,
   "metadata": {},
   "outputs": [],
   "source": [
    "had = pt.HadamardPatternGenerator(256)\n",
    "pattern = had[65]\n",
    "patternSLM = pt.Pattern(resX, resY)\n",
    "\n",
    "mask = patternSLM._enlarge_pattern(pattern, 5)\n",
    "mask = patternSLM.add_subpattern(mask)\n",
    "\n",
    "slm.sendArray(mask)\n"
   ]
  }
 ],
 "metadata": {
  "kernelspec": {
   "display_name": "slmpy",
   "language": "python",
   "name": "python3"
  },
  "language_info": {
   "codemirror_mode": {
    "name": "ipython",
    "version": 3
   },
   "file_extension": ".py",
   "mimetype": "text/x-python",
   "name": "python",
   "nbconvert_exporter": "python",
   "pygments_lexer": "ipython3",
   "version": "3.8.16"
  },
  "orig_nbformat": 4
 },
 "nbformat": 4,
 "nbformat_minor": 2
}
