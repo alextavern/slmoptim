{
 "cells": [
  {
   "cell_type": "markdown",
   "metadata": {},
   "source": [
    "### import libraries"
   ]
  },
  {
   "cell_type": "code",
   "execution_count": 2,
   "metadata": {},
   "outputs": [],
   "source": [
    "import sys\n",
    "import numpy as np\n",
    "import math\n",
    "import matplotlib.pyplot as plt\n",
    "sys.path.append(str('/home/alexandre/Documents/Projects'))\n",
    "\n",
    "from slmOptim.patternSLM import patterns as pt\n",
    "from slmOptim.optimization import phase_conjugation\n",
    "from slmOptim.zeluxPy import helper_functions as cam\n",
    "from slmOptim.optimization.init_experiment import InitExperiment\n",
    "from slmOptim.optimization.iteration_algorithms import ContinuousSequential, RandomPartition\n",
    "from slmOptim.optimization.iteration_algorithms import StepwiseSequential\n",
    "\n",
    "from slmOptim.optimization import cost_functions\n",
    "\n",
    "import time\n",
    "from scipy import ndimage"
   ]
  },
  {
   "cell_type": "markdown",
   "metadata": {},
   "source": [
    "### set experiment parameters"
   ]
  },
  {
   "cell_type": "code",
   "execution_count": 1,
   "metadata": {},
   "outputs": [
    {
     "ename": "NameError",
     "evalue": "name 'math' is not defined",
     "output_type": "error",
     "traceback": [
      "\u001b[0;31m---------------------------------------------------------------------------\u001b[0m",
      "\u001b[0;31mNameError\u001b[0m                                 Traceback (most recent call last)",
      "\u001b[1;32m/home/optomeca/Projects/slmOptim/notebooks/Continuous_Seq.ipynb Cell 4\u001b[0m line \u001b[0;36m1\n\u001b[1;32m      <a href='vscode-notebook-cell:/home/optomeca/Projects/slmOptim/notebooks/Continuous_Seq.ipynb#W3sZmlsZQ%3D%3D?line=6'>7</a>\u001b[0m diam \u001b[39m=\u001b[39m \u001b[39mint\u001b[39m(slm_segments \u001b[39m*\u001b[39m\u001b[39m*\u001b[39m \u001b[39m0.5\u001b[39m)\n\u001b[1;32m      <a href='vscode-notebook-cell:/home/optomeca/Projects/slmOptim/notebooks/Continuous_Seq.ipynb#W3sZmlsZQ%3D%3D?line=8'>9</a>\u001b[0m \u001b[39m# size of macropixels on slm\u001b[39;00m\n\u001b[0;32m---> <a href='vscode-notebook-cell:/home/optomeca/Projects/slmOptim/notebooks/Continuous_Seq.ipynb#W3sZmlsZQ%3D%3D?line=9'>10</a>\u001b[0m n \u001b[39m=\u001b[39m \u001b[39mround\u001b[39m(math\u001b[39m.\u001b[39mlog2(resY \u001b[39m/\u001b[39m diam \u001b[39m+\u001b[39m \u001b[39m1\u001b[39m))\n\u001b[1;32m     <a href='vscode-notebook-cell:/home/optomeca/Projects/slmOptim/notebooks/Continuous_Seq.ipynb#W3sZmlsZQ%3D%3D?line=10'>11</a>\u001b[0m slm_macropixels \u001b[39m=\u001b[39m n \u001b[39m+\u001b[39m \u001b[39m1\u001b[39m\n\u001b[1;32m     <a href='vscode-notebook-cell:/home/optomeca/Projects/slmOptim/notebooks/Continuous_Seq.ipynb#W3sZmlsZQ%3D%3D?line=11'>12</a>\u001b[0m \u001b[39mprint\u001b[39m(slm_macropixels)\n",
      "\u001b[0;31mNameError\u001b[0m: name 'math' is not defined"
     ]
    }
   ],
   "source": [
    "# SLM resolution\n",
    "resX, resY = (800, 600)\n",
    "\n",
    "# the number of controlled segments on the SLM\n",
    "slm_segments = 37 ** 2\n",
    "\n",
    "diam = int(slm_segments ** 0.5)\n",
    "\n",
    "# size of macropixels on slm\n",
    "n = round(math.log2(resY / diam + 1))\n",
    "slm_macropixels = n + 1\n",
    "print(slm_macropixels)\n",
    "phase_steps = 8\n",
    "\n",
    "# Define observation window on camera\n",
    "roi_size = 400\n",
    "off = (0, 0)\n",
    "\n",
    "# Define camera macropixel, this is defined by the measured speckel grain\n",
    "bins = 1\n",
    "\n",
    "# Define camera acquisition parameters\n",
    "exposure_time = 50\n",
    "gain = 1\n",
    "timeout= 100\n",
    "\n",
    "# save data\n",
    "path = '/home/optomeca/Documents/measurements'"
   ]
  },
  {
   "cell_type": "code",
   "execution_count": 3,
   "metadata": {},
   "outputs": [
    {
     "name": "stdout",
     "output_type": "stream",
     "text": [
      "600 5625\n",
      "592 1369\n",
      "576 324\n",
      "576 81\n"
     ]
    }
   ],
   "source": [
    "mag = [4, 5, 6, 7]\n",
    "segs = [75, 37, 18, 9]\n",
    "for n, m in zip(mag, segs):\n",
    "    diam = 2 ** (n - 1) * m\n",
    "    print(diam, m ** 2)"
   ]
  },
  {
   "cell_type": "code",
   "execution_count": 4,
   "metadata": {},
   "outputs": [
    {
     "data": {
      "text/plain": [
       "1369"
      ]
     },
     "execution_count": 4,
     "metadata": {},
     "output_type": "execute_result"
    }
   ],
   "source": [
    "37 * 37"
   ]
  },
  {
   "cell_type": "markdown",
   "metadata": {},
   "source": [
    "### Initialize SLM and cam check a frame"
   ]
  },
  {
   "cell_type": "code",
   "execution_count": 5,
   "metadata": {},
   "outputs": [
    {
     "ename": "",
     "evalue": "",
     "output_type": "error",
     "traceback": [
      "\u001b[1;31mThe Kernel crashed while executing code in the the current cell or a previous cell. Please review the code in the cell(s) to identify a possible cause of the failure. Click <a href='https://aka.ms/vscodeJupyterKernelCrash'>here</a> for more info. View Jupyter <a href='command:jupyter.viewOutput'>log</a> for further details."
     ]
    }
   ],
   "source": [
    "init = InitExperiment(roi_size, off, bins, exposure_time, gain, timeout)\n",
    "camera = init.init_cam()\n",
    "slm = init.init_slm()\n",
    "# # \n",
    "frame = camera.get_pending_frame_or_null()\n",
    "frame = np.copy(frame.image_buffer)\n",
    "plt.imshow(frame)\n",
    "plt.colorbar()\n",
    "\n",
    "# print(frame.shape)"
   ]
  },
  {
   "cell_type": "code",
   "execution_count": null,
   "metadata": {},
   "outputs": [],
   "source": [
    "frame.shape"
   ]
  },
  {
   "cell_type": "code",
   "execution_count": null,
   "metadata": {},
   "outputs": [],
   "source": [
    "init.close_cam()"
   ]
  },
  {
   "cell_type": "code",
   "execution_count": null,
   "metadata": {},
   "outputs": [],
   "source": [
    "init.close_cam()"
   ]
  },
  {
   "cell_type": "markdown",
   "metadata": {},
   "source": [
    "### define cost function"
   ]
  },
  {
   "cell_type": "code",
   "execution_count": null,
   "metadata": {},
   "outputs": [],
   "source": [
    "# define target for the correlation cost function only\n",
    "target_shape = (104, 104)\n",
    "tgt = phase_conjugation.Target(target_shape)\n",
    "target = tgt.square((4, 4), offset_x=0, offset_y=0, intensity=100)\n",
    "\n",
    "# choose one cost function to pass to optim object    \n",
    "# cost_fun = lambda x: cost_functions.corr_coef(x, target)\n",
    "cost_fun = lambda x: cost_functions.snr(x, mask_radius=1)\n"
   ]
  },
  {
   "cell_type": "markdown",
   "metadata": {},
   "source": [
    "##### Load patterns that will be used for optimization using a custom pattern loader"
   ]
  },
  {
   "cell_type": "code",
   "execution_count": null,
   "metadata": {},
   "outputs": [],
   "source": [
    "# create pattenr loader\n",
    "\n",
    "pattern_loader = pt.OnePixelPatternGenerator(slm_segments)\n",
    "# pattern_loader = pt.RandomPatternGenerator(100, slm_segments)\n",
    "# pattern_loader = pt.HadamardPatternGenerator(256, 112)\n",
    "len(pattern_loader)\n",
    "# N = [45, 249, 1005, 4281]"
   ]
  },
  {
   "cell_type": "markdown",
   "metadata": {},
   "source": [
    "#### run the algorithm"
   ]
  },
  {
   "cell_type": "code",
   "execution_count": null,
   "metadata": {},
   "outputs": [],
   "source": [
    "# cost = {}\n",
    "# slm_segments = 256\n",
    "# for step in range(1, 16):\n",
    "\n",
    "# create pattenr loader\n",
    "\n",
    "# instantiate optimization class\n",
    "optim = ContinuousSequential(slm, camera, \n",
    "                        pattern_loader, \n",
    "                        total_iterations=1,\n",
    "                        slm_segments=slm_segments,\n",
    "                        slm_macropixel=slm_macropixels,\n",
    "                        phase_steps=phase_steps, \n",
    "                        save_path=path)\n",
    "\n",
    "# optim = StepwiseSequential(slm, camera, \n",
    "#                         pattern_loader, \n",
    "#                         total_iterations=6,\n",
    "#                         slm_segments=slm_segments,\n",
    "#                         slm_macropixel=slm_macropixels,\n",
    "#                         phase_steps=phase_steps, \n",
    "#                         save_path=path)\n",
    "\n",
    "# optim = RandomPartition(slm, camera, \n",
    "#                         pattern_loader, \n",
    "#                         total_iterations=1,\n",
    "#                         slm_segments=slm_segments,\n",
    "#                         slm_macropixel=slm_macropixels,\n",
    "#                         phase_steps=phase_steps, \n",
    "#                         save_path=path)\n",
    "\n",
    "# pass cost function to object\n",
    "optim.register_callback(cost_fun)\n",
    "\n",
    "# run the algorithm\n",
    "pattern, cost, frames = optim.run()\n",
    "# optim.save_raw()        "
   ]
  },
  {
   "cell_type": "markdown",
   "metadata": {},
   "source": [
    "### Apply optimized mask and get frame"
   ]
  },
  {
   "cell_type": "code",
   "execution_count": null,
   "metadata": {},
   "outputs": [],
   "source": [
    "patternSLM = pt.Pattern(resX, resY)\n",
    "\n",
    "mask = patternSLM._enlarge_pattern(pattern, slm_macropixels)\n",
    "mask = patternSLM.add_subpattern(mask)\n",
    "\n",
    "slm.sendArray(mask)\n",
    "# # slm.updateArray(temp)\n",
    "\n",
    "frame = camera.get_pending_frame_or_null()\n",
    "focus = np.copy(frame.image_buffer)\n",
    "\n",
    "optim.plot(focus, 202)\n",
    "# optim.save_raw()"
   ]
  },
  {
   "cell_type": "code",
   "execution_count": null,
   "metadata": {},
   "outputs": [],
   "source": [
    "plt.imshow(mask)"
   ]
  },
  {
   "cell_type": "code",
   "execution_count": null,
   "metadata": {},
   "outputs": [],
   "source": [
    "plt.imshow(mask)"
   ]
  },
  {
   "cell_type": "code",
   "execution_count": null,
   "metadata": {},
   "outputs": [],
   "source": [
    "plt.imshow(focus[350:450, 350:450], cmap='magma')\n",
    "plt.axis('off')\n",
    "plt.savefig('optim.png', dpi=200, transparent=True, bbox_inches='tight')"
   ]
  },
  {
   "cell_type": "code",
   "execution_count": null,
   "metadata": {},
   "outputs": [],
   "source": [
    "init.close_cam()\n",
    "# init.close_slm()"
   ]
  },
  {
   "cell_type": "code",
   "execution_count": null,
   "metadata": {},
   "outputs": [],
   "source": [
    "pat = pt.Pattern(resX, resY)\n",
    "mirror = pat.mirror()\n",
    "slm.sendArray(mirror)"
   ]
  },
  {
   "cell_type": "code",
   "execution_count": null,
   "metadata": {},
   "outputs": [],
   "source": [
    "had = pt.HadamardPatternGenerator(256)\n",
    "pattern = had[65]\n",
    "patternSLM = pt.Pattern(resX, resY)\n",
    "\n",
    "mask = patternSLM._enlarge_pattern(pattern, 5)\n",
    "mask = patternSLM.add_subpattern(mask)\n",
    "\n",
    "slm.sendArray(mask)\n"
   ]
  },
  {
   "cell_type": "code",
   "execution_count": null,
   "metadata": {},
   "outputs": [],
   "source": [
    "def reset_camera(init, bins, roi_size, time=200):\n",
    "    \n",
    "    init.close_cam()\n",
    "    exposure_time = time\n",
    "    init = InitExperiment(roi_size, off, bins, exposure_time, gain, timeout)\n",
    "    camera = init.init_cam()\n",
    "    return camera, init\n",
    "    \n",
    "\n",
    "\n",
    "def focus(pattern):\n",
    "    # merge phase mask into an slm pattern\n",
    "    patternSLM = pt.Pattern(resX, resY)\n",
    "    mask = patternSLM._enlarge_pattern(pattern, slm_macropixels)\n",
    "    mask = patternSLM.add_subpattern(mask)    \n",
    "    slm.sendArray(mask)\n",
    "    \n",
    "    return mask \n",
    "\n",
    "def set_mirror():\n",
    "    patSLM = pt.Pattern(resX, resY)\n",
    "    mirror = patSLM.mirror()\n",
    "    slm.sendArray(mirror)\n",
    "    time.sleep(.2)\n",
    "    \n",
    "def get_frame(camera):\n",
    "    frame = camera.get_pending_frame_or_null()\n",
    "    frame = np.copy(frame.image_buffer)\n",
    "    \n",
    "    return frame\n",
    "    \n",
    "def plot(phase_mask, frame_speck, frame_focus, off=0):\n",
    "    fig, axs = plt.subplots(2, 2, figsize=(7,7))\n",
    "\n",
    "    speck = axs[0, 0].imshow(frame_speck)\n",
    "    axs[0, 0].set_title(\"Diffusing pattern\")\n",
    "    axs[0, 0].set_xlabel(\"Camera x px #\")\n",
    "    axs[0, 0].set_ylabel(\"Camera y px #\")\n",
    "    divider = make_axes_locatable(axs[0, 0])\n",
    "    cax = divider.append_axes(\"right\", size=\"5%\", pad=0.05)\n",
    "    fig.colorbar(speck, cax=cax)   \n",
    "\n",
    "    mask = axs[1, 0].imshow(phase_mask)\n",
    "    axs[1, 0].set_title(\"Focus mask\")\n",
    "    axs[1, 0].set_xlabel(\"SLM x px #\")\n",
    "    axs[1, 0].set_ylabel(\"SLM y px #\")\n",
    "    divider = make_axes_locatable(axs[1, 0])\n",
    "    cax = divider.append_axes(\"right\", size=\"5%\", pad=0.05)\n",
    "    fig.colorbar(mask, cax=cax)   \n",
    "\n",
    "    frame = axs[0, 1].imshow(frame_focus)\n",
    "    # frame = axs[0, 1].imshow(frame_focus)\n",
    "    # frame = axs[1].imshow(frame_focus)\n",
    "\n",
    "    axs[0, 1].set_title(\"Focusing\")\n",
    "    axs[0, 1].set_xlabel(\"Camera x px #\")\n",
    "    axs[0, 1].set_ylabel(\"Camera y px #\")\n",
    "    divider = make_axes_locatable(axs[0, 1])\n",
    "    cax = divider.append_axes(\"right\", size=\"5%\", pad=0.05)\n",
    "    fig.colorbar(frame, cax=cax)   \n",
    "\n",
    "    profile_line = len(frame_focus) // 2 + off\n",
    "    axs[1, 1].plot(frame_focus[profile_line][:])\n",
    "    axs[1, 1].set_box_aspect(1)\n",
    "    axs[1, 1].set_title(\"Focus profile\")\n",
    "    axs[1, 1].set_xlabel(\"Camera x px #\")\n",
    "    axs[1, 1].set_ylabel(\"Intensity (a.u.) #\")\n",
    "\n",
    "    fig.tight_layout()\n",
    "    \n",
    "    timestr = time.strftime(\"%Y%m%d-%H%M\")\n",
    "    filename = \"{}_focus_num_in{}_slm_macro{}.png\".format(timestr, num_in, slm_macropixel)\n",
    "    filepath = os.path.join(path, filename)\n",
    "    fig.savefig(filepath, dpi=200, transparent=True)\n",
    "\n",
    "    \n",
    "    \n",
    "def signal2noise(frame, dark=1.033, mask_radius=8):\n",
    "    \"\"\" Thank you S. Popoff\n",
    "        Creates mask with a disk in the center and calculates the ratio of the\n",
    "        pixel intensity in the disk to the pixel intensity outside the disk.\n",
    "    \"\"\"\n",
    "\n",
    "    res = frame.shape\n",
    "    \n",
    "    max_idx = ndimage.maximum_position(frame)\n",
    "    mask_center = [max_idx[0], max_idx[1]]\n",
    "    \n",
    "    \n",
    "    Y, X = np.meshgrid(np.arange(res[0]),np.arange(res[1]))\n",
    "\n",
    "    # We generate a mask representing the disk we want to intensity to be concentrated in\n",
    "    mask = (X - mask_center[0]) ** 2 + (Y - mask_center[1]) ** 2 < mask_radius ** 2\n",
    "\n",
    "    signal = np.sum((frame) * mask) / np.sum(mask)\n",
    "    noise = np.sum((frame) * (1. - mask)) / np.sum(1. - mask) - dark\n",
    "    snr = signal / noise\n",
    "\n",
    "    return snr, mask\n",
    "    \n",
    "if __name__ ==  \"__main__\":\n",
    "    \n",
    "    mag = [4, 5, 6, 7]\n",
    "    segs = [75, 37, 18, 9]\n",
    "    \n",
    "    mag = [7, 6, 5, 4]\n",
    "    segs = [9, 18, 37, 75]\n",
    "    \n",
    "    snrs = []\n",
    "    masks = []\n",
    "    frames = []\n",
    "    \n",
    "    for num_in, slm_macropixels in zip(segs, mag):\n",
    "        \n",
    "        slm_segments = num_in ** 2\n",
    "        # create pattern loader\n",
    "        pattern_loader = pt.OnePixelPatternGenerator(slm_segments)\n",
    "        \n",
    "        # define cost function\n",
    "        cost_fun = lambda x: cost_functions.snr(x, mask_radius=4)\n",
    "\n",
    "        # instantiate optimization class\n",
    "        optim = ContinuousSequential(slm, camera, \n",
    "                                pattern_loader, \n",
    "                                total_iterations=1,\n",
    "                                slm_segments=slm_segments,\n",
    "                                slm_macropixel=slm_macropixels,\n",
    "                                phase_steps=phase_steps, \n",
    "                                save_path=path)\n",
    "\n",
    "        # pass cost function to object\n",
    "        optim.register_callback(cost_fun)\n",
    "\n",
    "        # run the algorithm\n",
    "        pattern, cost, _ = optim.run()\n",
    "        # optim.save_raw()        \n",
    "        \n",
    "        focusing_mask = focus(pattern)\n",
    "        frame_focus = get_frame(camera)\n",
    "        set_mirror()\n",
    "        frame_speck = get_frame(camera)\n",
    "        \n",
    "        optim.plot(frame_focus, 101)  \n",
    "\n",
    "        snr, _ = signal2noise(frame_focus, dark=1.033, mask_radius=1)\n",
    "        masks.append(pattern)\n",
    "        frames.append(frame_focus)   \n",
    "        snrs.append(snr)"
   ]
  },
  {
   "cell_type": "code",
   "execution_count": null,
   "metadata": {},
   "outputs": [],
   "source": [
    "fig, ax = plt.subplots()\n",
    "x = [9 ** 2, 18 ** 2, 37 ** 2, 75 ** 2]\n",
    "line, = ax.plot(x, snrs, 'o-', label='SNR')\n",
    "ax.legend()\n",
    "\n",
    "\n",
    "ax.set_xlabel('SLM controlled segments #')\n",
    "ax.set_ylabel('Focusing signal-to-noise ratio')\n",
    "ax.set_box_aspect(1)\n",
    "\n",
    "plt.tight_layout()\n",
    "\n",
    "plt.savefig(\"optim_SNRs.png\", dpi=200, transparent=True)\n",
    "plt.savefig(\"optim_SNRs.eps\")"
   ]
  },
  {
   "cell_type": "code",
   "execution_count": null,
   "metadata": {},
   "outputs": [],
   "source": [
    "from mpl_toolkits.axes_grid1 import make_axes_locatable\n",
    "\n",
    "from matplotlib.colors import LogNorm\n",
    "\n",
    "\n",
    "\n",
    "fig, axs = plt.subplots(2, 4, figsize=(10, 4), sharex=True, sharey='row')\n",
    "\n",
    "order = [2, 3, 4, 5, 6]\n",
    "order = [9, 18, 37, 75]\n",
    "N = [45, 249, 1005, 4281]\n",
    "\n",
    "for ax, idx in zip(axs.ravel(), range(8)):\n",
    "    if idx < 4:\n",
    "        im = ax.imshow(frames[idx], norm=LogNorm(vmin=1, vmax=1000), origin='lower')\n",
    "        \n",
    "        title = 'N = ' + str(N[idx])\n",
    "        ax.set_title(title)\n",
    "        divider = make_axes_locatable(ax)\n",
    "        cax = divider.append_axes(\"right\", size=\"5%\", pad=0.05)\n",
    "        fig.colorbar(im, cax=cax)  \n",
    "        \n",
    "    else:\n",
    "        ax.semilogy(frames[idx - 4][101]) \n",
    "        ax.set_ylim([1, 1000])\n",
    "        ax.set_box_aspect(1)\n",
    "\n",
    "fig.text(0.51, -0.01, 'Camera x px #', ha='center')\n",
    "fig.text(-0.01, 0.7, 'Camera y px #', va='center', rotation='vertical')\n",
    "fig.text(-0.01, 0.3, 'Intensity (a.u.)', va='center', rotation='vertical')\n",
    "\n",
    "\n",
    "\n",
    "fig.tight_layout(h_pad=.001, w_pad=1)\n",
    "\n",
    "plt.savefig(\"optim_focus_vs_N.png\", dpi=200, transparent=True, bbox_inches = 'tight')\n",
    "plt.savefig(\"optim_focus_vs_N.eps\", bbox_inches = 'tight')\n"
   ]
  },
  {
   "cell_type": "code",
   "execution_count": null,
   "metadata": {},
   "outputs": [],
   "source": [
    "from mpl_toolkits.axes_grid1 import make_axes_locatable\n",
    "\n",
    "from matplotlib.colors import LogNorm\n",
    "\n",
    "\n",
    "\n",
    "fig, axs = plt.subplots(2, 4, figsize=(10, 4), sharex=True, sharey='row')\n",
    "\n",
    "order = [2, 3, 4, 5, 6]\n",
    "order = [9, 18, 37, 75]\n",
    "\n",
    "for ax, idx in zip(axs.ravel(), range(8)):\n",
    "    if idx < 4:\n",
    "        im = ax.imshow(frames[idx], origin='lower')\n",
    "        \n",
    "        N = order[idx] \n",
    "        title = 'N = ' + str(N ** 2)\n",
    "        ax.set_title(title)\n",
    "        divider = make_axes_locatable(ax)\n",
    "        cax = divider.append_axes(\"right\", size=\"5%\", pad=0.05)\n",
    "        fig.colorbar(im, cax=cax)  \n",
    "        \n",
    "    else:\n",
    "        ax.plot(frames[idx - 4][101]) \n",
    "        ax.set_ylim([1, 1000])\n",
    "        ax.set_box_aspect(1)\n",
    "\n",
    "fig.text(0.51, -0.01, 'Camera x px #', ha='center')\n",
    "fig.text(-0.01, 0.7, 'Camera y px #', va='center', rotation='vertical')\n",
    "fig.text(-0.01, 0.3, 'Intensity (a.u.)', va='center', rotation='vertical')\n",
    "\n",
    "\n",
    "\n",
    "fig.tight_layout(h_pad=.001, w_pad=1)\n",
    "\n",
    "plt.savefig(\"optim_focus_vs_N_lin.png\", dpi=200, transparent=True, bbox_inches = 'tight')\n",
    "plt.savefig(\"optim_focus_vs_N_lin.eps\", bbox_inches = 'tight')\n"
   ]
  },
  {
   "cell_type": "code",
   "execution_count": null,
   "metadata": {},
   "outputs": [],
   "source": []
  }
 ],
 "metadata": {
  "kernelspec": {
   "display_name": "slmpy",
   "language": "python",
   "name": "python3"
  },
  "language_info": {
   "codemirror_mode": {
    "name": "ipython",
    "version": 3
   },
   "file_extension": ".py",
   "mimetype": "text/x-python",
   "name": "python",
   "nbconvert_exporter": "python",
   "pygments_lexer": "ipython3",
   "version": "3.8.16"
  },
  "orig_nbformat": 4
 },
 "nbformat": 4,
 "nbformat_minor": 2
}
